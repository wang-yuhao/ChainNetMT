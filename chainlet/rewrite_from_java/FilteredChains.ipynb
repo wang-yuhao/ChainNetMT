{
 "cells": [
  {
   "cell_type": "code",
   "execution_count": null,
   "metadata": {},
   "outputs": [],
   "source": [
    "import os\n",
    "import numpy as np\n",
    "import math\n",
    "class FilteredChains:\n",
    "    def __init__(self):\n",
    "        self.timePeriodMax = 366\n",
    "        coins = [\"Bitcoin\", \"Litecoin\", \"Namecoin\"]\n",
    "        for coin in coins:\n",
    "            print(coin + \"processing....\")\n",
    "            getmatrix(coin)\n",
    "        \n",
    "    def getmatrix(self, coin):\n",
    "        data_dir = \"H:/data/\" + coin + \"/createddata/daily/\"\n",
    "        filter_dir = \"H:/data/\" + coin + \"/createddata/filteredDailyOccMatrices/\"\n",
    "        \n",
    "        os.mkdirs(filter_dir)\n",
    "        \n",
    "        for year in range(2009, 2018):\n",
    "            for timePeriod in range(self.timePeriodMax):\n",
    "                fileName = data_dir + str(year) + \"_\" + str(timePeriod) + \".txt\"\n",
    "                inBr = open(fileName, \"r\")\n",
    "                content = []\n",
    "                for line in inBr.readline():\n",
    "                    content.append(line)\n",
    "                \n",
    "                inBr.close()\n",
    "                \n",
    "                for filterIndex in range(0, 100, 10):\n",
    "                    dim = 20\n",
    "                    has = False\n",
    "                    threshold = filterIndex\n",
    "                    occM = np.zeros((dim,dim))\n",
    "                    \n",
    "                for l in content: \n",
    "                    arr = l.split(\"\\t\")\n",
    "                    icount = int(arr[2])\n",
    "                    ocount = int(arr[3])\n",
    "                    amount = float(arr[4] / math.pow(10,8))\n",
    "                    if amount > threshold:\n",
    "                        if(icount > dim):\n",
    "                            icount = dim\n",
    "                        if(ocount > dim):\n",
    "                            ocount = dim\n",
    "                        occM[icount - 1][ocount - 1] = occM[icount - 1][ocount - 1] + 1\n",
    "                        has = True\n",
    "                    \n",
    "                if(has):\n",
    "                    np.savetxt(filter_dir+\"occ\" + str(year) + \"_\" + str(timePeriod) + \"_\" + str(filterIndex) +  \".csv\", occM, delimiter=\",\")\n",
    "                    \n",
    "fChain = FilteredChains()"
   ]
  }
 ],
 "metadata": {
  "kernelspec": {
   "display_name": "Python 3",
   "language": "python",
   "name": "python3"
  },
  "language_info": {
   "codemirror_mode": {
    "name": "ipython",
    "version": 3
   },
   "file_extension": ".py",
   "mimetype": "text/x-python",
   "name": "python",
   "nbconvert_exporter": "python",
   "pygments_lexer": "ipython3",
   "version": "3.8.3"
  }
 },
 "nbformat": 4,
 "nbformat_minor": 4
}
